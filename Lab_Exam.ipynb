{
  "nbformat": 4,
  "nbformat_minor": 0,
  "metadata": {
    "colab": {
      "provenance": [],
      "include_colab_link": true
    },
    "kernelspec": {
      "name": "python3",
      "display_name": "Python 3"
    },
    "language_info": {
      "name": "python"
    }
  },
  "cells": [
    {
      "cell_type": "markdown",
      "metadata": {
        "id": "view-in-github",
        "colab_type": "text"
      },
      "source": [
        "<a href=\"https://colab.research.google.com/github/ysibghaSE/Programming4AI/blob/main/Lab_Exam.ipynb\" target=\"_parent\"><img src=\"https://colab.research.google.com/assets/colab-badge.svg\" alt=\"Open In Colab\"/></a>"
      ]
    },
    {
      "cell_type": "markdown",
      "source": [
        "## **Quiz-2**"
      ],
      "metadata": {
        "id": "wKBOgALplcmv"
      }
    },
    {
      "cell_type": "markdown",
      "source": [
        "Perform following tasks on the provided Reviews Dataset.\n",
        "* Drop words if not alphabets.\n",
        "* Tokenize the sentence.\n",
        "* Perform lemitization.\n",
        "* Vectorize using bigram and trigram techniques.\n",
        "* Apply Random Forest algorithm with 150 trees.\n",
        "* Evaluate overall accuracy of the model and class-wise precision ."
      ],
      "metadata": {
        "id": "m5VxQWNuli1L"
      }
    },
    {
      "cell_type": "code",
      "source": [
        "import numpy as np\n",
        "import pandas as pd"
      ],
      "metadata": {
        "id": "YbPlAVPW4kfg"
      },
      "execution_count": 1,
      "outputs": []
    },
    {
      "cell_type": "code",
      "source": [
        "temp_df = pd.read_csv('/content/reviews_dataset.csv')"
      ],
      "metadata": {
        "id": "EzXUNMu84wrn"
      },
      "execution_count": 2,
      "outputs": []
    },
    {
      "cell_type": "code",
      "source": [
        "temp_df.shape"
      ],
      "metadata": {
        "id": "edmZESiL7Gi5",
        "outputId": "f071e6c4-ee2c-42fa-9e59-aa57e88be5d2",
        "colab": {
          "base_uri": "https://localhost:8080/"
        }
      },
      "execution_count": 3,
      "outputs": [
        {
          "output_type": "execute_result",
          "data": {
            "text/plain": [
              "(2225, 2)"
            ]
          },
          "metadata": {},
          "execution_count": 3
        }
      ]
    },
    {
      "cell_type": "code",
      "source": [
        "temp_df.head()"
      ],
      "metadata": {
        "id": "agEZYRXr6W7Z",
        "outputId": "5595e9c5-8aa5-4cae-ba73-cd739d57adac",
        "colab": {
          "base_uri": "https://localhost:8080/",
          "height": 206
        }
      },
      "execution_count": 4,
      "outputs": [
        {
          "output_type": "execute_result",
          "data": {
            "text/plain": [
              "                                                news      type\n",
              "0  China had role in Yukos split-up\\n \\n China le...  business\n",
              "1  Oil rebounds from weather effect\\n \\n Oil pric...  business\n",
              "2  Indonesia 'declines debt freeze'\\n \\n Indonesi...  business\n",
              "3  $1m payoff for former Shell boss\\n \\n Shell is...  business\n",
              "4  US bank in $515m SEC settlement\\n \\n Five Bank...  business"
            ],
            "text/html": [
              "\n",
              "  <div id=\"df-f1a58e8f-5800-4117-89b8-4d69bb0f8778\" class=\"colab-df-container\">\n",
              "    <div>\n",
              "<style scoped>\n",
              "    .dataframe tbody tr th:only-of-type {\n",
              "        vertical-align: middle;\n",
              "    }\n",
              "\n",
              "    .dataframe tbody tr th {\n",
              "        vertical-align: top;\n",
              "    }\n",
              "\n",
              "    .dataframe thead th {\n",
              "        text-align: right;\n",
              "    }\n",
              "</style>\n",
              "<table border=\"1\" class=\"dataframe\">\n",
              "  <thead>\n",
              "    <tr style=\"text-align: right;\">\n",
              "      <th></th>\n",
              "      <th>news</th>\n",
              "      <th>type</th>\n",
              "    </tr>\n",
              "  </thead>\n",
              "  <tbody>\n",
              "    <tr>\n",
              "      <th>0</th>\n",
              "      <td>China had role in Yukos split-up\\n \\n China le...</td>\n",
              "      <td>business</td>\n",
              "    </tr>\n",
              "    <tr>\n",
              "      <th>1</th>\n",
              "      <td>Oil rebounds from weather effect\\n \\n Oil pric...</td>\n",
              "      <td>business</td>\n",
              "    </tr>\n",
              "    <tr>\n",
              "      <th>2</th>\n",
              "      <td>Indonesia 'declines debt freeze'\\n \\n Indonesi...</td>\n",
              "      <td>business</td>\n",
              "    </tr>\n",
              "    <tr>\n",
              "      <th>3</th>\n",
              "      <td>$1m payoff for former Shell boss\\n \\n Shell is...</td>\n",
              "      <td>business</td>\n",
              "    </tr>\n",
              "    <tr>\n",
              "      <th>4</th>\n",
              "      <td>US bank in $515m SEC settlement\\n \\n Five Bank...</td>\n",
              "      <td>business</td>\n",
              "    </tr>\n",
              "  </tbody>\n",
              "</table>\n",
              "</div>\n",
              "    <div class=\"colab-df-buttons\">\n",
              "\n",
              "  <div class=\"colab-df-container\">\n",
              "    <button class=\"colab-df-convert\" onclick=\"convertToInteractive('df-f1a58e8f-5800-4117-89b8-4d69bb0f8778')\"\n",
              "            title=\"Convert this dataframe to an interactive table.\"\n",
              "            style=\"display:none;\">\n",
              "\n",
              "  <svg xmlns=\"http://www.w3.org/2000/svg\" height=\"24px\" viewBox=\"0 -960 960 960\">\n",
              "    <path d=\"M120-120v-720h720v720H120Zm60-500h600v-160H180v160Zm220 220h160v-160H400v160Zm0 220h160v-160H400v160ZM180-400h160v-160H180v160Zm440 0h160v-160H620v160ZM180-180h160v-160H180v160Zm440 0h160v-160H620v160Z\"/>\n",
              "  </svg>\n",
              "    </button>\n",
              "\n",
              "  <style>\n",
              "    .colab-df-container {\n",
              "      display:flex;\n",
              "      gap: 12px;\n",
              "    }\n",
              "\n",
              "    .colab-df-convert {\n",
              "      background-color: #E8F0FE;\n",
              "      border: none;\n",
              "      border-radius: 50%;\n",
              "      cursor: pointer;\n",
              "      display: none;\n",
              "      fill: #1967D2;\n",
              "      height: 32px;\n",
              "      padding: 0 0 0 0;\n",
              "      width: 32px;\n",
              "    }\n",
              "\n",
              "    .colab-df-convert:hover {\n",
              "      background-color: #E2EBFA;\n",
              "      box-shadow: 0px 1px 2px rgba(60, 64, 67, 0.3), 0px 1px 3px 1px rgba(60, 64, 67, 0.15);\n",
              "      fill: #174EA6;\n",
              "    }\n",
              "\n",
              "    .colab-df-buttons div {\n",
              "      margin-bottom: 4px;\n",
              "    }\n",
              "\n",
              "    [theme=dark] .colab-df-convert {\n",
              "      background-color: #3B4455;\n",
              "      fill: #D2E3FC;\n",
              "    }\n",
              "\n",
              "    [theme=dark] .colab-df-convert:hover {\n",
              "      background-color: #434B5C;\n",
              "      box-shadow: 0px 1px 3px 1px rgba(0, 0, 0, 0.15);\n",
              "      filter: drop-shadow(0px 1px 2px rgba(0, 0, 0, 0.3));\n",
              "      fill: #FFFFFF;\n",
              "    }\n",
              "  </style>\n",
              "\n",
              "    <script>\n",
              "      const buttonEl =\n",
              "        document.querySelector('#df-f1a58e8f-5800-4117-89b8-4d69bb0f8778 button.colab-df-convert');\n",
              "      buttonEl.style.display =\n",
              "        google.colab.kernel.accessAllowed ? 'block' : 'none';\n",
              "\n",
              "      async function convertToInteractive(key) {\n",
              "        const element = document.querySelector('#df-f1a58e8f-5800-4117-89b8-4d69bb0f8778');\n",
              "        const dataTable =\n",
              "          await google.colab.kernel.invokeFunction('convertToInteractive',\n",
              "                                                    [key], {});\n",
              "        if (!dataTable) return;\n",
              "\n",
              "        const docLinkHtml = 'Like what you see? Visit the ' +\n",
              "          '<a target=\"_blank\" href=https://colab.research.google.com/notebooks/data_table.ipynb>data table notebook</a>'\n",
              "          + ' to learn more about interactive tables.';\n",
              "        element.innerHTML = '';\n",
              "        dataTable['output_type'] = 'display_data';\n",
              "        await google.colab.output.renderOutput(dataTable, element);\n",
              "        const docLink = document.createElement('div');\n",
              "        docLink.innerHTML = docLinkHtml;\n",
              "        element.appendChild(docLink);\n",
              "      }\n",
              "    </script>\n",
              "  </div>\n",
              "\n",
              "\n",
              "<div id=\"df-e918ee77-4c23-47f5-8382-5d1d4e58f63e\">\n",
              "  <button class=\"colab-df-quickchart\" onclick=\"quickchart('df-e918ee77-4c23-47f5-8382-5d1d4e58f63e')\"\n",
              "            title=\"Suggest charts\"\n",
              "            style=\"display:none;\">\n",
              "\n",
              "<svg xmlns=\"http://www.w3.org/2000/svg\" height=\"24px\"viewBox=\"0 0 24 24\"\n",
              "     width=\"24px\">\n",
              "    <g>\n",
              "        <path d=\"M19 3H5c-1.1 0-2 .9-2 2v14c0 1.1.9 2 2 2h14c1.1 0 2-.9 2-2V5c0-1.1-.9-2-2-2zM9 17H7v-7h2v7zm4 0h-2V7h2v10zm4 0h-2v-4h2v4z\"/>\n",
              "    </g>\n",
              "</svg>\n",
              "  </button>\n",
              "\n",
              "<style>\n",
              "  .colab-df-quickchart {\n",
              "      --bg-color: #E8F0FE;\n",
              "      --fill-color: #1967D2;\n",
              "      --hover-bg-color: #E2EBFA;\n",
              "      --hover-fill-color: #174EA6;\n",
              "      --disabled-fill-color: #AAA;\n",
              "      --disabled-bg-color: #DDD;\n",
              "  }\n",
              "\n",
              "  [theme=dark] .colab-df-quickchart {\n",
              "      --bg-color: #3B4455;\n",
              "      --fill-color: #D2E3FC;\n",
              "      --hover-bg-color: #434B5C;\n",
              "      --hover-fill-color: #FFFFFF;\n",
              "      --disabled-bg-color: #3B4455;\n",
              "      --disabled-fill-color: #666;\n",
              "  }\n",
              "\n",
              "  .colab-df-quickchart {\n",
              "    background-color: var(--bg-color);\n",
              "    border: none;\n",
              "    border-radius: 50%;\n",
              "    cursor: pointer;\n",
              "    display: none;\n",
              "    fill: var(--fill-color);\n",
              "    height: 32px;\n",
              "    padding: 0;\n",
              "    width: 32px;\n",
              "  }\n",
              "\n",
              "  .colab-df-quickchart:hover {\n",
              "    background-color: var(--hover-bg-color);\n",
              "    box-shadow: 0 1px 2px rgba(60, 64, 67, 0.3), 0 1px 3px 1px rgba(60, 64, 67, 0.15);\n",
              "    fill: var(--button-hover-fill-color);\n",
              "  }\n",
              "\n",
              "  .colab-df-quickchart-complete:disabled,\n",
              "  .colab-df-quickchart-complete:disabled:hover {\n",
              "    background-color: var(--disabled-bg-color);\n",
              "    fill: var(--disabled-fill-color);\n",
              "    box-shadow: none;\n",
              "  }\n",
              "\n",
              "  .colab-df-spinner {\n",
              "    border: 2px solid var(--fill-color);\n",
              "    border-color: transparent;\n",
              "    border-bottom-color: var(--fill-color);\n",
              "    animation:\n",
              "      spin 1s steps(1) infinite;\n",
              "  }\n",
              "\n",
              "  @keyframes spin {\n",
              "    0% {\n",
              "      border-color: transparent;\n",
              "      border-bottom-color: var(--fill-color);\n",
              "      border-left-color: var(--fill-color);\n",
              "    }\n",
              "    20% {\n",
              "      border-color: transparent;\n",
              "      border-left-color: var(--fill-color);\n",
              "      border-top-color: var(--fill-color);\n",
              "    }\n",
              "    30% {\n",
              "      border-color: transparent;\n",
              "      border-left-color: var(--fill-color);\n",
              "      border-top-color: var(--fill-color);\n",
              "      border-right-color: var(--fill-color);\n",
              "    }\n",
              "    40% {\n",
              "      border-color: transparent;\n",
              "      border-right-color: var(--fill-color);\n",
              "      border-top-color: var(--fill-color);\n",
              "    }\n",
              "    60% {\n",
              "      border-color: transparent;\n",
              "      border-right-color: var(--fill-color);\n",
              "    }\n",
              "    80% {\n",
              "      border-color: transparent;\n",
              "      border-right-color: var(--fill-color);\n",
              "      border-bottom-color: var(--fill-color);\n",
              "    }\n",
              "    90% {\n",
              "      border-color: transparent;\n",
              "      border-bottom-color: var(--fill-color);\n",
              "    }\n",
              "  }\n",
              "</style>\n",
              "\n",
              "  <script>\n",
              "    async function quickchart(key) {\n",
              "      const quickchartButtonEl =\n",
              "        document.querySelector('#' + key + ' button');\n",
              "      quickchartButtonEl.disabled = true;  // To prevent multiple clicks.\n",
              "      quickchartButtonEl.classList.add('colab-df-spinner');\n",
              "      try {\n",
              "        const charts = await google.colab.kernel.invokeFunction(\n",
              "            'suggestCharts', [key], {});\n",
              "      } catch (error) {\n",
              "        console.error('Error during call to suggestCharts:', error);\n",
              "      }\n",
              "      quickchartButtonEl.classList.remove('colab-df-spinner');\n",
              "      quickchartButtonEl.classList.add('colab-df-quickchart-complete');\n",
              "    }\n",
              "    (() => {\n",
              "      let quickchartButtonEl =\n",
              "        document.querySelector('#df-e918ee77-4c23-47f5-8382-5d1d4e58f63e button');\n",
              "      quickchartButtonEl.style.display =\n",
              "        google.colab.kernel.accessAllowed ? 'block' : 'none';\n",
              "    })();\n",
              "  </script>\n",
              "</div>\n",
              "\n",
              "    </div>\n",
              "  </div>\n"
            ],
            "application/vnd.google.colaboratory.intrinsic+json": {
              "type": "dataframe",
              "variable_name": "temp_df",
              "summary": "{\n  \"name\": \"temp_df\",\n  \"rows\": 2225,\n  \"fields\": [\n    {\n      \"column\": \"news\",\n      \"properties\": {\n        \"dtype\": \"string\",\n        \"num_unique_values\": 2127,\n        \"samples\": [\n          \"Millions go missing at China bank\\n \\n Two senior officials at one of China's top commercial banks have reportedly disappeared after funds worth up to $120m (\\u00c2\\u00a364m) went missing.\\n \\n The pair both worked at Bank of China in the northern city of Harbin, the South China Morning Post reported. The latest scandal at Bank of China will do nothing to reassure foreign investors that China's big four banks are ready for international listings. Government policy sees the bank listings as vital economic reforms. Bank of China is one of two frontrunners in the race to list overseas. The other is China Construction Bank. Both are expected to list abroad during 2005.\\n \\n They shared a $45bn state bailout in 2003, to help clean up their balance sheets in preparation for a foreign stock market debut.\\n \\n However, a report in the China-published Economic Observer said on Monday that the two banks may have scrapped plans to list in New York because of the cost of meeting regulatory requirements imposed since the Enron scandal. Bank of China is the country's biggest foreign exchange dealer, while China Construction Bank is the largest deposit holder. China's banking sector is burdened with at least $190bn of bad debt according to official data, though most observers believe the true figure is far higher. Officially, one in five loans is not being repaid. Attempts to strengthen internal controls and tighten lending policies have uncovered a succession of scandals involving embezzlement by bank officials and loans-for-favours. The most high-profile case involved the ex-president of Bank of China, Wang Xuebing, jailed for 12 years in 2003. Although, he committed the offences whilst running Bank of China in New York, Mr Wang was head of China Construction Bank when the scandal broke. Earlier this month, a China Construction Bank branch manager was jailed for life in a separate case.\\n \\n China's banks used to act as cash offices for state enterprises and did not require checks on credit worthiness. The introduction of market reforms has been accompanied by attempts to modernise the banking sector, but links between banks and local government remain strong. Last year, China's premier, Wen Jiabao, targeted bank lending practices in a series of speeches, and regulators ordered all big loans to be scrutinised, in an attempt to cool down irresponsible lending. China's leaders see reforming the top four banks as vital to distribute capital to profitable companies and protect the health of China's economic boom. But two problems persist. First, inefficient state enterprises continue to receive protection from bankruptcy because they employ large numbers of people. Second, many questionable loans come not from the big four, but from smaller banks. Another high profile financial firm, China Life, is facing shareholder lawsuits and a probe by the US Securities and Exchange Commission following its 2004 New York listing over its failure to disclose accounting irregularities at its parent company.\\n\",\n          \"Portable PlayStation ready to go\\n \\n Sony's PlayStation Portable (PSP) will go on sale in Japan on 12 December.\\n \\n The long-awaited handheld game playing gadget will cost about 19,800 yen (145 euros) when it hits the shelves. At launch 21 games will be available for the PSP, including Need for Speed, Ridge Racer, Metal Gear Acid and Vampire Chronicle. Sony has not yet announced when the PSP will be available in Europe and the US, but analysts expect it to debut in those territories in early 2005.\\n \\n Fifa 2005 is back at the top of the UK games charts, a week after losing it to rival Pro Evolution Soccer 4. Konami's Pro Evo dropped only one place to two, while the only new entry in the top 10 was another football title, LMA Manager 2005, in at number seven. Tony Hawk's Underground 2 held its own at three, while Star Wars Battlefront inched up to four places to four. There was good news for Disney, with the spin-off from the Shark's Tale film moving up the charts into number eight.\\n \\n Fans of the Gran Turismo series in Europe are going to have to wait until next year for the latest version. Sony has said that the PAL version of GT4 will not be ready for Christmas. \\\"The product is localised into 13 different languages across the PAL territories, therefore the process takes considerably longer than it does in Japan,\\\" it said. Gran Turismo 4 for the PlayStation 2 is still expected to be released in Japan and the USA this year.\\n \\n Halo 2 has broken video game records, with pre-orders of more than 1.5 million in the US alone. Some 6,500 US stores plan to open just after midnight on Tuesday 9 November for the game's release. \\\"Halo 2 is projected to bring in more revenue than any day one box office blockbuster movie in the United States,\\\" said Xbox's Peter Moore. \\\"We've even heard rumours of fan anticipation of the 'Halo 2 flu' on 9 November.\\\"\\n\",\n          \"Tomlinson stays focused on Europe\\n \\n Long jumper Chris Tomlinson has cut his schedule to ensure he is fully fit for the European Indoor Championships.\\n \\n The 23-year-old has a minor injury and has pulled out of international meets in Madrid and Lievin this week as well as warm-weather training in Lanzarote. \\\"It's nothing serious,\\\" said his coach Peter Stanley. \\\"He strained a muscle in his abdomen at the Birmingham meeting but is back in full training.\\\" Sprinter Mark Lewis-Francis will also not compete in Madrid on Thursday. The Birmingham athlete, who clocked a season's best of 6.61 seconds over 60m in Birmingham last week, also prefers to focus his attentions on next month's European Indoor Championships.\\n \\n Lewis-Francis, who was runner-up to British team-mate Jason Gardener at the Europeans three years ago, will continue his training at home. Meanwhile, Tomlinson is still searching for this first major medal and this season he has shown he could be in the sort of form to grab a spot on the podium in Madrid. The Middlesbrough athlete jumped a season's best of 7.95m at the Birmingham Grand Prix - good enough to push world indoor champion Savante Stringfellow into second.\\n\"\n        ],\n        \"semantic_type\": \"\",\n        \"description\": \"\"\n      }\n    },\n    {\n      \"column\": \"type\",\n      \"properties\": {\n        \"dtype\": \"category\",\n        \"num_unique_values\": 5,\n        \"samples\": [\n          \"entertainment\",\n          \"tech\",\n          \"politics\"\n        ],\n        \"semantic_type\": \"\",\n        \"description\": \"\"\n      }\n    }\n  ]\n}"
            }
          },
          "metadata": {},
          "execution_count": 4
        }
      ]
    },
    {
      "cell_type": "markdown",
      "source": [
        "### Drop words if not alphabets."
      ],
      "metadata": {
        "id": "hXqKIvF047dP"
      }
    },
    {
      "cell_type": "code",
      "source": [
        "import re\n",
        "def remove_non_alphabets(text):\n",
        "    pattern = re.compile('[^a-zA-Z ]')\n",
        "    return pattern.sub(r'', text)"
      ],
      "metadata": {
        "id": "6AaKpNtH45cu"
      },
      "execution_count": 5,
      "outputs": []
    },
    {
      "cell_type": "markdown",
      "source": [
        "testing...."
      ],
      "metadata": {
        "id": "QG5MvMKo7vEZ"
      }
    },
    {
      "cell_type": "code",
      "source": [
        "sample_text01 = \"abc 123a 07\"\n",
        "clean_sample_text01 = remove_non_alphabets(sample_text01)\n",
        "print(clean_sample_text01)"
      ],
      "metadata": {
        "id": "AqwnBI_H5Si-",
        "outputId": "3fb3fab2-b4e1-4b67-f3de-160ff3204fbd",
        "colab": {
          "base_uri": "https://localhost:8080/"
        }
      },
      "execution_count": 6,
      "outputs": [
        {
          "output_type": "stream",
          "name": "stdout",
          "text": [
            "abc a \n"
          ]
        }
      ]
    },
    {
      "cell_type": "code",
      "source": [
        "temp_df['news'][1]"
      ],
      "metadata": {
        "id": "mVTZSOonBB8N",
        "outputId": "e4bae8a0-644d-476f-ce09-f3c3f2487006",
        "colab": {
          "base_uri": "https://localhost:8080/",
          "height": 122
        }
      },
      "execution_count": 7,
      "outputs": [
        {
          "output_type": "execute_result",
          "data": {
            "text/plain": [
              "'Oil rebounds from weather effect\\n \\n Oil prices recovered in Asian trade on Tuesday, after falling in New York on milder winter weather across the US.\\n \\n With winter temperatures staying relatively high in the northern US, a barrel of light crude ended Monday down $1.33 to $42.12. However crude prices have rebounded in Asia, rising to $42.30 a barrel for February delivery. In London, trading of Brent crude was suspended for a public holiday, but the price fell to $39.20 in the Far East.\\n \\n With milder temperatures expected to continue in the northern parts of the US over the next few days at least, analysts have said the price of oil may fall further - even if the decline was only temporary. \"Weather has been the Achilles\\' heel of this market,\" said ABN AMRO analyst John Brady. \"But it is winter in the northeast. Eventually we\\'ll get another cold blast.\" Despite a fall of more than $12 a barrel from the record highs reached in late October, the price of crude oil remains almost 30% higher than year-ago levels. Prices rose last week after militant attacks in Riyadh, the capital of Saudi Arabia, briefly renewed fears that the supply chain might be broken in the world\\'s leading crude exporter. \"The market was panicked but fears essentially evaporated... since there was no follow-up,\" said Deborah White, senior economist for energy at SG Securities in Paris.\\n'"
            ],
            "application/vnd.google.colaboratory.intrinsic+json": {
              "type": "string"
            }
          },
          "metadata": {},
          "execution_count": 7
        }
      ]
    },
    {
      "cell_type": "code",
      "source": [
        "temp_df['news'] = temp_df['news'].apply(remove_non_alphabets)\n",
        "temp_df['type'] = temp_df['type'].apply(remove_non_alphabets)"
      ],
      "metadata": {
        "id": "GtDBcvuR64TZ"
      },
      "execution_count": 8,
      "outputs": []
    },
    {
      "cell_type": "code",
      "source": [
        "temp_df['news'][1]"
      ],
      "metadata": {
        "id": "wgm1ayPhBDX9",
        "outputId": "635871ab-00da-4636-87f2-99a73d29eda9",
        "colab": {
          "base_uri": "https://localhost:8080/",
          "height": 122
        }
      },
      "execution_count": 9,
      "outputs": [
        {
          "output_type": "execute_result",
          "data": {
            "text/plain": [
              "'Oil rebounds from weather effect  Oil prices recovered in Asian trade on Tuesday after falling in New York on milder winter weather across the US  With winter temperatures staying relatively high in the northern US a barrel of light crude ended Monday down  to  However crude prices have rebounded in Asia rising to  a barrel for February delivery In London trading of Brent crude was suspended for a public holiday but the price fell to  in the Far East  With milder temperatures expected to continue in the northern parts of the US over the next few days at least analysts have said the price of oil may fall further  even if the decline was only temporary Weather has been the Achilles heel of this market said ABN AMRO analyst John Brady But it is winter in the northeast Eventually well get another cold blast Despite a fall of more than  a barrel from the record highs reached in late October the price of crude oil remains almost  higher than yearago levels Prices rose last week after militant attacks in Riyadh the capital of Saudi Arabia briefly renewed fears that the supply chain might be broken in the worlds leading crude exporter The market was panicked but fears essentially evaporated since there was no followup said Deborah White senior economist for energy at SG Securities in Paris'"
            ],
            "application/vnd.google.colaboratory.intrinsic+json": {
              "type": "string"
            }
          },
          "metadata": {},
          "execution_count": 9
        }
      ]
    },
    {
      "cell_type": "markdown",
      "source": [
        "# Tokenize the sentence."
      ],
      "metadata": {
        "id": "Gegbe8qs7jag"
      }
    },
    {
      "cell_type": "code",
      "source": [
        "import nltk\n",
        "nltk.download('punkt_tab')\n",
        "from nltk.tokenize import word_tokenize,sent_tokenize"
      ],
      "metadata": {
        "id": "IfFiFMwp7lpQ",
        "outputId": "bcdd2d55-b7e9-41e2-fa92-c1554cf30fb5",
        "colab": {
          "base_uri": "https://localhost:8080/"
        }
      },
      "execution_count": 10,
      "outputs": [
        {
          "output_type": "stream",
          "name": "stderr",
          "text": [
            "[nltk_data] Downloading package punkt_tab to /root/nltk_data...\n",
            "[nltk_data]   Package punkt_tab is already up-to-date!\n"
          ]
        }
      ]
    },
    {
      "cell_type": "markdown",
      "source": [
        "testing..."
      ],
      "metadata": {
        "id": "7YoE-6zF8W94"
      }
    },
    {
      "cell_type": "code",
      "source": [
        "sample_text02=\"a quick brown fox jumps over the lazy dog\"\n",
        "word_tokenize(sample_text02)"
      ],
      "metadata": {
        "id": "wYPiJOPW8WXo",
        "outputId": "531eeea1-4c2d-41cd-d477-fc44f4b1c013",
        "colab": {
          "base_uri": "https://localhost:8080/"
        }
      },
      "execution_count": 11,
      "outputs": [
        {
          "output_type": "execute_result",
          "data": {
            "text/plain": [
              "['a', 'quick', 'brown', 'fox', 'jumps', 'over', 'the', 'lazy', 'dog']"
            ]
          },
          "metadata": {},
          "execution_count": 11
        }
      ]
    },
    {
      "cell_type": "code",
      "source": [
        "temp_df['news'][1]"
      ],
      "metadata": {
        "id": "pEIgzLzF8-mg",
        "outputId": "4e43e655-535a-456c-83c9-f4fb78e76c05",
        "colab": {
          "base_uri": "https://localhost:8080/",
          "height": 122
        }
      },
      "execution_count": 12,
      "outputs": [
        {
          "output_type": "execute_result",
          "data": {
            "text/plain": [
              "'Oil rebounds from weather effect  Oil prices recovered in Asian trade on Tuesday after falling in New York on milder winter weather across the US  With winter temperatures staying relatively high in the northern US a barrel of light crude ended Monday down  to  However crude prices have rebounded in Asia rising to  a barrel for February delivery In London trading of Brent crude was suspended for a public holiday but the price fell to  in the Far East  With milder temperatures expected to continue in the northern parts of the US over the next few days at least analysts have said the price of oil may fall further  even if the decline was only temporary Weather has been the Achilles heel of this market said ABN AMRO analyst John Brady But it is winter in the northeast Eventually well get another cold blast Despite a fall of more than  a barrel from the record highs reached in late October the price of crude oil remains almost  higher than yearago levels Prices rose last week after militant attacks in Riyadh the capital of Saudi Arabia briefly renewed fears that the supply chain might be broken in the worlds leading crude exporter The market was panicked but fears essentially evaporated since there was no followup said Deborah White senior economist for energy at SG Securities in Paris'"
            ],
            "application/vnd.google.colaboratory.intrinsic+json": {
              "type": "string"
            }
          },
          "metadata": {},
          "execution_count": 12
        }
      ]
    },
    {
      "cell_type": "code",
      "source": [
        "temp_df['news'] = temp_df['news'].apply(word_tokenize)\n",
        "temp_df['type'] = temp_df['type'].apply(word_tokenize)"
      ],
      "metadata": {
        "id": "iZY21MSR70Sg"
      },
      "execution_count": 13,
      "outputs": []
    },
    {
      "cell_type": "code",
      "source": [
        "temp_df['news'][1]"
      ],
      "metadata": {
        "id": "jFZY2N9w9X3u",
        "outputId": "02626a90-387b-40f3-991f-8e812c4e01c1",
        "colab": {
          "base_uri": "https://localhost:8080/"
        }
      },
      "execution_count": 14,
      "outputs": [
        {
          "output_type": "execute_result",
          "data": {
            "text/plain": [
              "['Oil',\n",
              " 'rebounds',\n",
              " 'from',\n",
              " 'weather',\n",
              " 'effect',\n",
              " 'Oil',\n",
              " 'prices',\n",
              " 'recovered',\n",
              " 'in',\n",
              " 'Asian',\n",
              " 'trade',\n",
              " 'on',\n",
              " 'Tuesday',\n",
              " 'after',\n",
              " 'falling',\n",
              " 'in',\n",
              " 'New',\n",
              " 'York',\n",
              " 'on',\n",
              " 'milder',\n",
              " 'winter',\n",
              " 'weather',\n",
              " 'across',\n",
              " 'the',\n",
              " 'US',\n",
              " 'With',\n",
              " 'winter',\n",
              " 'temperatures',\n",
              " 'staying',\n",
              " 'relatively',\n",
              " 'high',\n",
              " 'in',\n",
              " 'the',\n",
              " 'northern',\n",
              " 'US',\n",
              " 'a',\n",
              " 'barrel',\n",
              " 'of',\n",
              " 'light',\n",
              " 'crude',\n",
              " 'ended',\n",
              " 'Monday',\n",
              " 'down',\n",
              " 'to',\n",
              " 'However',\n",
              " 'crude',\n",
              " 'prices',\n",
              " 'have',\n",
              " 'rebounded',\n",
              " 'in',\n",
              " 'Asia',\n",
              " 'rising',\n",
              " 'to',\n",
              " 'a',\n",
              " 'barrel',\n",
              " 'for',\n",
              " 'February',\n",
              " 'delivery',\n",
              " 'In',\n",
              " 'London',\n",
              " 'trading',\n",
              " 'of',\n",
              " 'Brent',\n",
              " 'crude',\n",
              " 'was',\n",
              " 'suspended',\n",
              " 'for',\n",
              " 'a',\n",
              " 'public',\n",
              " 'holiday',\n",
              " 'but',\n",
              " 'the',\n",
              " 'price',\n",
              " 'fell',\n",
              " 'to',\n",
              " 'in',\n",
              " 'the',\n",
              " 'Far',\n",
              " 'East',\n",
              " 'With',\n",
              " 'milder',\n",
              " 'temperatures',\n",
              " 'expected',\n",
              " 'to',\n",
              " 'continue',\n",
              " 'in',\n",
              " 'the',\n",
              " 'northern',\n",
              " 'parts',\n",
              " 'of',\n",
              " 'the',\n",
              " 'US',\n",
              " 'over',\n",
              " 'the',\n",
              " 'next',\n",
              " 'few',\n",
              " 'days',\n",
              " 'at',\n",
              " 'least',\n",
              " 'analysts',\n",
              " 'have',\n",
              " 'said',\n",
              " 'the',\n",
              " 'price',\n",
              " 'of',\n",
              " 'oil',\n",
              " 'may',\n",
              " 'fall',\n",
              " 'further',\n",
              " 'even',\n",
              " 'if',\n",
              " 'the',\n",
              " 'decline',\n",
              " 'was',\n",
              " 'only',\n",
              " 'temporary',\n",
              " 'Weather',\n",
              " 'has',\n",
              " 'been',\n",
              " 'the',\n",
              " 'Achilles',\n",
              " 'heel',\n",
              " 'of',\n",
              " 'this',\n",
              " 'market',\n",
              " 'said',\n",
              " 'ABN',\n",
              " 'AMRO',\n",
              " 'analyst',\n",
              " 'John',\n",
              " 'Brady',\n",
              " 'But',\n",
              " 'it',\n",
              " 'is',\n",
              " 'winter',\n",
              " 'in',\n",
              " 'the',\n",
              " 'northeast',\n",
              " 'Eventually',\n",
              " 'well',\n",
              " 'get',\n",
              " 'another',\n",
              " 'cold',\n",
              " 'blast',\n",
              " 'Despite',\n",
              " 'a',\n",
              " 'fall',\n",
              " 'of',\n",
              " 'more',\n",
              " 'than',\n",
              " 'a',\n",
              " 'barrel',\n",
              " 'from',\n",
              " 'the',\n",
              " 'record',\n",
              " 'highs',\n",
              " 'reached',\n",
              " 'in',\n",
              " 'late',\n",
              " 'October',\n",
              " 'the',\n",
              " 'price',\n",
              " 'of',\n",
              " 'crude',\n",
              " 'oil',\n",
              " 'remains',\n",
              " 'almost',\n",
              " 'higher',\n",
              " 'than',\n",
              " 'yearago',\n",
              " 'levels',\n",
              " 'Prices',\n",
              " 'rose',\n",
              " 'last',\n",
              " 'week',\n",
              " 'after',\n",
              " 'militant',\n",
              " 'attacks',\n",
              " 'in',\n",
              " 'Riyadh',\n",
              " 'the',\n",
              " 'capital',\n",
              " 'of',\n",
              " 'Saudi',\n",
              " 'Arabia',\n",
              " 'briefly',\n",
              " 'renewed',\n",
              " 'fears',\n",
              " 'that',\n",
              " 'the',\n",
              " 'supply',\n",
              " 'chain',\n",
              " 'might',\n",
              " 'be',\n",
              " 'broken',\n",
              " 'in',\n",
              " 'the',\n",
              " 'worlds',\n",
              " 'leading',\n",
              " 'crude',\n",
              " 'exporter',\n",
              " 'The',\n",
              " 'market',\n",
              " 'was',\n",
              " 'panicked',\n",
              " 'but',\n",
              " 'fears',\n",
              " 'essentially',\n",
              " 'evaporated',\n",
              " 'since',\n",
              " 'there',\n",
              " 'was',\n",
              " 'no',\n",
              " 'followup',\n",
              " 'said',\n",
              " 'Deborah',\n",
              " 'White',\n",
              " 'senior',\n",
              " 'economist',\n",
              " 'for',\n",
              " 'energy',\n",
              " 'at',\n",
              " 'SG',\n",
              " 'Securities',\n",
              " 'in',\n",
              " 'Paris']"
            ]
          },
          "metadata": {},
          "execution_count": 14
        }
      ]
    },
    {
      "cell_type": "markdown",
      "source": [
        "# Perform lemitization."
      ],
      "metadata": {
        "id": "K6PpW5GB9mVV"
      }
    },
    {
      "cell_type": "code",
      "source": [
        "import nltk\n",
        "nltk.download('wordnet')\n",
        "from nltk.stem import WordNetLemmatizer\n",
        "lemmitizer = WordNetLemmatizer()\n",
        "def lemmitize_words(text):\n",
        "    return \" \".join([lemmitizer.lemmatize(word,pos='v') for word in text.split()])"
      ],
      "metadata": {
        "id": "5KcpLTfZ9qwK",
        "outputId": "bcf2c969-23e4-49b7-de04-d2896e0269f9",
        "colab": {
          "base_uri": "https://localhost:8080/"
        }
      },
      "execution_count": 21,
      "outputs": [
        {
          "output_type": "stream",
          "name": "stderr",
          "text": [
            "[nltk_data] Downloading package wordnet to /root/nltk_data...\n",
            "[nltk_data]   Package wordnet is already up-to-date!\n"
          ]
        }
      ]
    },
    {
      "cell_type": "markdown",
      "source": [
        "testing..."
      ],
      "metadata": {
        "id": "s01meems-P7t"
      }
    },
    {
      "cell_type": "code",
      "source": [
        "sample_text03=\"She was running along roads\"\n",
        "lemmitize_words(sample_text03)"
      ],
      "metadata": {
        "id": "PnuOG4Q6-M6f",
        "outputId": "7213b1f1-a517-4184-fd55-bb4357b520a1",
        "colab": {
          "base_uri": "https://localhost:8080/",
          "height": 35
        }
      },
      "execution_count": 16,
      "outputs": [
        {
          "output_type": "execute_result",
          "data": {
            "text/plain": [
              "'She be run along roads'"
            ],
            "application/vnd.google.colaboratory.intrinsic+json": {
              "type": "string"
            }
          },
          "metadata": {},
          "execution_count": 16
        }
      ]
    },
    {
      "cell_type": "code",
      "source": [
        "temp_df['news'][1]"
      ],
      "metadata": {
        "id": "i-cI33HcCsBT"
      },
      "execution_count": null,
      "outputs": []
    },
    {
      "cell_type": "code",
      "source": [
        "def lemmatize_words(tokens):\n",
        "    return [lemmitizer.lemmatize(word,pos='v') for word in tokens]"
      ],
      "metadata": {
        "id": "XGKO2f1--DIm"
      },
      "execution_count": 30,
      "outputs": []
    },
    {
      "cell_type": "code",
      "source": [
        "temp_df['news'] = temp_df['news'].apply(lemmatize_words)\n",
        "temp_df['news'] = temp_df['type'].apply(lemmatize_words)"
      ],
      "metadata": {
        "id": "C64Wbb8vDvMs"
      },
      "execution_count": 31,
      "outputs": []
    },
    {
      "cell_type": "code",
      "source": [
        "temp_df['news'][1]"
      ],
      "metadata": {
        "id": "dVMpfe-HAO1t",
        "outputId": "2027d0fb-0ef0-448f-c912-62d60f438a31",
        "colab": {
          "base_uri": "https://localhost:8080/"
        }
      },
      "execution_count": 32,
      "outputs": [
        {
          "output_type": "execute_result",
          "data": {
            "text/plain": [
              "['business']"
            ]
          },
          "metadata": {},
          "execution_count": 32
        }
      ]
    },
    {
      "cell_type": "markdown",
      "source": [
        "# Vectorize using bigram and trigram techniques."
      ],
      "metadata": {
        "id": "7vMJJdpwFdB4"
      }
    },
    {
      "cell_type": "code",
      "source": [],
      "metadata": {
        "id": "_aRhEmDGFgkv"
      },
      "execution_count": null,
      "outputs": []
    }
  ]
}